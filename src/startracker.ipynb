{
 "cells": [
  {
   "cell_type": "markdown",
   "metadata": {},
   "source": [
    "# Identify stars in images"
   ]
  },
  {
   "cell_type": "markdown",
   "metadata": {},
   "source": [
    "The star catalog **hip_main.dat** consists of columns separated by | and with no header. Column 2 is the star identifier, column 6 is the magnitude, column 9 and 10 are RA and DE in degrees."
   ]
  },
  {
   "cell_type": "code",
   "execution_count": 1,
   "metadata": {
    "collapsed": true
   },
   "outputs": [],
   "source": [
    "%matplotlib inline"
   ]
  },
  {
   "cell_type": "code",
   "execution_count": 2,
   "metadata": {
    "collapsed": false
   },
   "outputs": [],
   "source": [
    "import numpy as np\n",
    "import pandas as pd\n",
    "import matplotlib.pyplot as plt\n",
    "plt.style.use(\"ggplot\")"
   ]
  },
  {
   "cell_type": "code",
   "execution_count": 3,
   "metadata": {
    "collapsed": false,
    "scrolled": true
   },
   "outputs": [],
   "source": [
    "import simulator as sim\n",
    "import os"
   ]
  },
  {
   "cell_type": "code",
   "execution_count": 4,
   "metadata": {
    "collapsed": false
   },
   "outputs": [],
   "source": [
    "star_catalog = sim.StarCatalog('../data/hip_main.dat')"
   ]
  },
  {
   "cell_type": "code",
   "execution_count": 5,
   "metadata": {
    "collapsed": false
   },
   "outputs": [
    {
     "data": {
      "text/plain": [
       "117955"
      ]
     },
     "execution_count": 5,
     "metadata": {},
     "output_type": "execute_result"
    }
   ],
   "source": [
    "len(star_catalog.star_vectors)"
   ]
  },
  {
   "cell_type": "code",
   "execution_count": 132,
   "metadata": {
    "collapsed": false
   },
   "outputs": [
    {
     "data": {
      "text/plain": [
       "-1.4399999999999999"
      ]
     },
     "execution_count": 132,
     "metadata": {},
     "output_type": "execute_result"
    }
   ],
   "source": [
    "np.min(star_catalog.magnitudes)"
   ]
  },
  {
   "cell_type": "code",
   "execution_count": 6,
   "metadata": {
    "collapsed": false
   },
   "outputs": [
    {
     "data": {
      "text/plain": [
       "<matplotlib.axes._subplots.AxesSubplot at 0x2324550>"
      ]
     },
     "execution_count": 6,
     "metadata": {},
     "output_type": "execute_result"
    },
    {
     "data": {
      "image/png": "[encoded data removed]",
      "text/plain": [
       "<matplotlib.figure.Figure at 0x2003da58>"
      ]
     },
     "metadata": {},
     "output_type": "display_data"
    }
   ],
   "source": [
    "pd.Series(star_catalog.magnitudes).hist(bins=50)"
   ]
  },
  {
   "cell_type": "markdown",
   "metadata": {},
   "source": [
    "The function *calc_md5* is used to calculate a MD5 checksum from the star catalog to detect changes of the file. In this case the features have to be recalculated."
   ]
  },
  {
   "cell_type": "code",
   "execution_count": 7,
   "metadata": {
    "collapsed": false
   },
   "outputs": [],
   "source": [
    "from hashlib import md5\n",
    "\n",
    "def calc_md5(file_name):\n",
    "    fd = open(file_name)\n",
    "    buffer = fd.read()\n",
    "    hash = md5(buffer)\n",
    "    fd.close()\n",
    "    return hash.hexdigest()"
   ]
  },
  {
   "cell_type": "code",
   "execution_count": 8,
   "metadata": {
    "collapsed": false
   },
   "outputs": [],
   "source": [
    "signature = calc_md5('../data/hip_main.dat')"
   ]
  },
  {
   "cell_type": "code",
   "execution_count": 129,
   "metadata": {
    "collapsed": false
   },
   "outputs": [],
   "source": [
    "def distance(v):\n",
    "    return np.sqrt(np.dot(v,v))\n",
    "\n",
    "def get_key(mag1,mag2,normalized_angle,distance_ratio):\n",
    "    mag_min = -1.44\n",
    "    key1 = '{:d}'.format(int(np.rint(mag1 - mag_min)))\n",
    "    key2 = '{:d}'.format(int(np.rint(mag2 - mag_min)))\n",
    "    key3 = '{:d}'.format(int(np.rint(normalized_angle * 10.0)))\n",
    "    key4 = '{:d}'.format(int(np.rint(distance_ratio * 10.0)))\n",
    "    # return int(key1 + key2 + key3 + key4)\n",
    "    return int(key3 + key4)\n",
    "    \n",
    "def get_parameters(hips,relpos,relmag,distances):\n",
    "    \"Calculate the parameters for the nearest stars\"\n",
    "    param = list()\n",
    "    n = len(distances)\n",
    "    if hips != None:\n",
    "        param.extend(hips)\n",
    "    param.extend(relmag)\n",
    "    key = np.nan\n",
    "    for index in range(n-1):\n",
    "        d1 = distances[index]\n",
    "        d2 = distances[index+1]\n",
    "        v1 = relpos[index]\n",
    "        v2 = relpos[index+1]\n",
    "        cosalpha = np.dot(v1,v2)/(d1*d2)\n",
    "        if np.abs(cosalpha) > 1.0:\n",
    "            cosalpha = min(1.0, cosalpha)\n",
    "            cosalpha = max(-1.0, cosalpha)\n",
    "        normalized_angle = np.arccos(cosalpha)/np.pi\n",
    "        param.append(normalized_angle)\n",
    "        v = d2/d1 # value is always >= 1, because stars are ordered by their relative distance\n",
    "        param.append(v)\n",
    "        if index == 0:\n",
    "            key = get_key(relmag[0],relmag[1],normalized_angle, v)\n",
    "    param.append(key)\n",
    "    return np.array(param)\n",
    "\n",
    "def get_columns(n):\n",
    "    \"Get the columns names of all features\"\n",
    "    cols = []\n",
    "    for i in range(n):\n",
    "        cols.append('hip' + str(i+1))\n",
    "    for i in range(n):\n",
    "        cols.append('relative_magnitude' + str(i+1))\n",
    "    if n > 1:\n",
    "        for i in range(n-1):\n",
    "            s = str(i+1) + str(i+2)\n",
    "            cols.append('normalized_angle' + s)\n",
    "            cols.append('relative_distance_ratio' + s)\n",
    "    cols.append('key')\n",
    "    return cols\n",
    "\n",
    "def get_nearest_stars(ids, dist, n=1):\n",
    "    \"Get the n nearest stars\"\n",
    "    stars = []\n",
    "    num_stars = min(n,len(dist))\n",
    "    selection = np.array([True]*len(dist))\n",
    "    while len(stars) < num_stars:\n",
    "        index = np.argmin(dist[selection])\n",
    "        identifier = ids[selection][index]\n",
    "        stars.append(identifier)\n",
    "        selection[ids == identifier] = False\n",
    "    return stars\n",
    "    "
   ]
  },
  {
   "cell_type": "code",
   "execution_count": 69,
   "metadata": {
    "collapsed": false
   },
   "outputs": [],
   "source": [
    "\n",
    "# check first if the features have been already calculated\n",
    "filename = '../data/hip_feat_' + str(signature) + '.csv'\n",
    "if os.path.exists(filename):\n",
    "    \n",
    "    features = pd.read_csv(filename, index_col = 0)\n",
    "\n",
    "else:\n",
    "\n",
    "    # find the N closest stars to each star in the catalog\n",
    "    N = 5\n",
    "    ids = star_catalog.catalog['HIP'].values\n",
    "    star_catalog.catalog.index = ids\n",
    "    cat = zip(ids, star_catalog.star_vectors,star_catalog.magnitudes)\n",
    "    features = pd.DataFrame(index = ids, \n",
    "                            columns = get_columns(N))\n",
    "\n",
    "    for hip, pos, mag in cat:\n",
    "\n",
    "        # get the nearest star\n",
    "        selection = ids != hip\n",
    "        dist = star_catalog.star_vectors[selection] - pos\n",
    "        dist2 = np.sum(dist * dist, axis=1)\n",
    "        nearest_stars = get_nearest_stars(ids[selection],dist2,n=N)\n",
    "        \n",
    "        hips = []\n",
    "        relpos = []\n",
    "        relmag = []\n",
    "        distances = []\n",
    "        for identifier in nearest_stars:\n",
    "            index = np.where(ids[selection] == identifier)[0][0]\n",
    "            hips.append(identifier)\n",
    "            relpos.append(dist[index])\n",
    "            relmag.append(star_catalog.magnitudes[selection][index] - mag)\n",
    "            distances.append(np.sqrt(dist2[index]))\n",
    "\n",
    "        # calculate star measures\n",
    "        features.ix[hip] = get_parameters(hips, relpos, relmag, distances)\n",
    "\n",
    "\n",
    "    features.to_csv(filename)"
   ]
  },
  {
   "cell_type": "code",
   "execution_count": 11,
   "metadata": {
    "collapsed": false
   },
   "outputs": [
    {
     "data": {
      "text/plain": [
       "<matplotlib.axes._subplots.AxesSubplot at 0x20d30a58>"
      ]
     },
     "execution_count": 11,
     "metadata": {},
     "output_type": "execute_result"
    },
    {
     "data": {
      "image/png": "[encoded data removed]",
      "text/plain": [
       "<matplotlib.figure.Figure at 0x2003d6a0>"
      ]
     },
     "metadata": {},
     "output_type": "display_data"
    }
   ],
   "source": [
    "features['relative_distance_ratio12'][np.abs(features['relative_distance_ratio12']) < 10].hist(bins=50)"
   ]
  },
  {
   "cell_type": "code",
   "execution_count": 120,
   "metadata": {
    "collapsed": false
   },
   "outputs": [],
   "source": [
    "def get_data(filename, reshape=True, dtype = np.float):\n",
    "    fd = open(filename,'r')\n",
    "    lines = fd.readlines()\n",
    "    fd.close()\n",
    "    data = []\n",
    "    for line in lines:\n",
    "        arr = np.array(line.split(','),dtype = dtype)\n",
    "        if reshape:\n",
    "            arr = arr.reshape([len(arr) // 3, 3])\n",
    "        data.append(arr)\n",
    "    return data"
   ]
  },
  {
   "cell_type": "markdown",
   "metadata": {},
   "source": [
    "There are the following cases in the star identification:\n",
    "\n",
    "- the star can be a false star\n",
    "- the star is a real star, but there are false stars in the neigbourhood"
   ]
  },
  {
   "cell_type": "code",
   "execution_count": 130,
   "metadata": {
    "collapsed": false
   },
   "outputs": [],
   "source": [
    "def identify_stars(scene, features):\n",
    "    \"Identifies all stars in the scene including false stars\"\n",
    "    count,length = scene.shape\n",
    "    selection = np.array([True] * count)\n",
    "    stars = np.zeros(count,dtype=np.int)\n",
    "    found = 0\n",
    "    # find the point in the scene, which is closest to the center\n",
    "    m = np.mean(scene[:,0:2], axis=1)\n",
    "    x = scene[:,0] - m[0]\n",
    "    y = scene[:,1] - m[1]\n",
    "    dist2 = x*x + y*y\n",
    "    # identify at most 2 stars in a scene\n",
    "    while found < 3 and not np.all(selection == False):\n",
    "        index = np.argmin(dist2)\n",
    "        selection[index] = False\n",
    "        dist2[index] = np.inf\n",
    "        others = scene[selection,:] - scene[index,:]\n",
    "        hip = classify_star(others, features)\n",
    "        if hip > 0:\n",
    "            stars[index] = hip\n",
    "            found = found + 1\n",
    "    # if 2 stars have been identified, identify remaining stars as known or false\n",
    "    if found > 1:\n",
    "        # check if the distance between the two stars matches with the distance in the scene\n",
    "        pass\n",
    "    \n",
    "    stars[stars == 0] = -1\n",
    "    return stars\n",
    "\n",
    "def classify_star(others, features):\n",
    "    \"Searches the features array for a matching star\"\n",
    "    x = others[:,0]\n",
    "    y = others[:,1]\n",
    "    dist2 = x*x + y*y\n",
    "    ids = np.arange(len(x))\n",
    "    nearest_stars = get_nearest_stars(ids,dist2,n=5)\n",
    "      \n",
    "    relpos = []\n",
    "    relmag = []\n",
    "    distances = []\n",
    "    for index in nearest_stars:\n",
    "        relpos.append(others[index,0:2])\n",
    "        relmag.append(others[index,2])\n",
    "        distances.append(np.sqrt(dist2[index]))\n",
    "        \n",
    "    params = get_parameters(None,relpos,relmag,distances)\n",
    "    key = params[-1]\n",
    "    # key can be NaN\n",
    "    found = features[features['key'] == key]\n",
    "    return len(found) > 0"
   ]
  },
  {
   "cell_type": "code",
   "execution_count": 131,
   "metadata": {
    "collapsed": false
   },
   "outputs": [
    {
     "name": "stdout",
     "output_type": "stream",
     "text": [
      "[-1 -1 -1 -1 -1 -1  1 -1 -1 -1 -1  1  1 -1]\n",
      "[   -1    -1 29730    -1    -1 27971 27949 29246    -1 25197 24914    -1\n",
      " 28358    -1]\n",
      "[-1 -1 -1  1  1 -1  1 -1]\n",
      "[   -1    -1 93148    -1    -1 93815 92646    -1]\n",
      "[ 1 -1 -1 -1 -1 -1  1  1]\n",
      "[44901 47006    -1 46853 42372 45493 44127 44613]\n",
      "[ 1  1 -1 -1 -1  1 -1 -1 -1]\n",
      "[    -1     -1 115404 116957 116758 116971     -1 115126     -1]\n",
      "[ 1 -1  1 -1 -1  1 -1 -1 -1 -1 -1]\n",
      "[101847 103569 101936     -1 103571 101692     -1 102633     -1     -1\n",
      "     -1]\n",
      "[-1 -1  1 -1 -1 -1  1 -1 -1  1 -1 -1 -1 -1 -1 -1]\n",
      "[32349    -1 33302 31700 33316    -1 33092 33347 35180    -1    -1 33077\n",
      "    -1    -1 34045    -1]\n",
      "[ 1 -1 -1  1 -1  1]\n",
      "[32765 34081 31765 34065 31685 33357]\n",
      "[-1  1 -1  1 -1 -1 -1  1 -1 -1 -1 -1]\n",
      "[   -1 88192 85749 88149    -1    -1    -1 87108    -1    -1 85537 86742]\n",
      "[ 1  1  1 -1 -1 -1 -1 -1 -1 -1]\n",
      "[   -1    -1 23900    -1 25695 24822 23497    -1 23871    -1]\n",
      "[ 1 -1  1  1 -1 -1 -1 -1 -1 -1]\n",
      "[   -1    -1    -1    -1    -1 69673    -1 69226    -1 70602]\n",
      "[ 1 -1  1 -1 -1 -1 -1  1 -1 -1 -1 -1 -1]\n",
      "[   -1 39177    -1    -1    -1    -1    -1    -1    -1 39567    -1 40167\n",
      " 40526]\n",
      "[-1  1 -1  1  1 -1]\n",
      "[5364 6537 5951 5799 5164   -1]\n",
      "[ 1  1 -1  1 -1 -1 -1 -1]\n",
      "[93299 92549 91013 92689 89981 93713 93408 94779]\n",
      "[-1  1  1 -1 -1 -1 -1 -1 -1 -1 -1 -1  1 -1 -1 -1 -1 -1 -1]\n",
      "[6692 5589   -1 3951   -1   -1   -1   -1 4427 2599   -1 7965 5566 4151   -1\n",
      " 5518 8886   -1   -1]\n",
      "[-1 -1 -1 -1 -1  1 -1 -1 -1  1 -1 -1 -1  1]\n",
      "[21139 19483 21444    -1 21297    -1 19849 21296    -1    -1 20507    -1\n",
      " 19587    -1]\n",
      "[ 1 -1 -1 -1 -1  1  1]\n",
      "[   -1 70755 69701 69389 68520 70012    -1]\n",
      "[ 1  1 -1  1 -1]\n",
      "[74604 74857 76259 76600 76470]\n",
      "[-1 -1 -1  1  1 -1 -1 -1 -1 -1  1 -1 -1 -1 -1 -1 -1]\n",
      "[   -1 94982 95822    -1 94834 94624    -1    -1 96957    -1    -1    -1\n",
      " 95447    -1    -1 93867    -1]\n",
      "[-1  1  1 -1 -1  1]\n",
      "[28734 28237    -1 29696    -1 27830]\n",
      "[-1 -1  1 -1 -1  1 -1  1 -1 -1 -1 -1 -1 -1]\n",
      "[   -1 81972    -1 78914    -1 80782    -1 81122 81305 79653 80945 80582\n",
      " 78639 79963]\n",
      "[-1 -1 -1 -1 -1 -1 -1  1 -1 -1  1  1 -1]\n",
      "[93026 93429 93225 93805    -1    -1 95066    -1    -1    -1    -1 94437\n",
      " 94385]\n",
      "[-1  1 -1 -1  1 -1 -1  1]\n",
      "[79387 79375    -1 80894 79672 80569 81377 79540]\n",
      "[-1  1  1 -1 -1 -1 -1 -1 -1  1 -1 -1 -1 -1]\n",
      "[   -1 27243    -1 28328    -1    -1    -1    -1 27955 25768 29263    -1\n",
      " 29064    -1]\n",
      "[ 1  1 -1 -1 -1 -1 -1 -1  1]\n",
      "[11060    -1 10944 10366 10819 12777 11313 11220    -1]\n",
      "[ 1 -1  1  1 -1 -1 -1]\n",
      "[   -1 95294 96178 96341 97749 98032 95241]\n",
      "[ 1 -1 -1 -1 -1 -1 -1  1  1]\n",
      "[91105 93225 91726 91845 90135    -1 91117 90595 90913]\n",
      "[ 1 -1  1  1 -1]\n",
      "[32864 26882 29997 33104 29490]\n",
      "[ 1  1  1 -1 -1 -1]\n",
      "[107556 109139 108036 107382 107095 107517]\n",
      "[-1 -1 -1 -1 -1 -1 -1 -1 -1  1 -1 -1 -1  1  1]\n",
      "[    -1     -1 111795     -1     -1 109556 108772 112731 110991 109492\n",
      " 107259     -1     -1 109857 109572]\n",
      "[ 1 -1 -1 -1  1  1 -1 -1 -1 -1 -1 -1]\n",
      "[   -1    -1    -1    -1    -1    -1 88788    -1    -1 93408 89482 89981]\n",
      "[-1  1 -1 -1  1 -1  1 -1 -1 -1 -1]\n",
      "[    -1     -1 112381     -1     -1     -1 114421 112122     -1 114131\n",
      "     -1]\n",
      "[ 1 -1  1 -1  1]\n",
      "[67459 67480 67275 65721 67927]\n",
      "[-1 -1 -1 -1 -1 -1 -1 -1 -1 -1  1 -1 -1  1 -1  1 -1 -1 -1]\n",
      "[   -1    -1 72929    -1    -1 70753 69415 70469    -1    -1 72357    -1\n",
      "    -1 72197    -1 72323 70306 72571    -1]\n",
      "[-1 -1  1  1 -1 -1 -1 -1  1 -1]\n",
      "[   -1 10642    -1 12247    -1    -1    -1    -1    -1 12107]\n",
      "[-1 -1  1  1 -1 -1  1 -1 -1 -1 -1]\n",
      "[22509 22957 23879 23983    -1 22845 24555 22834    -1 24450 22833]\n",
      "[-1 -1 -1 -1  1 -1 -1  1 -1 -1 -1 -1 -1 -1  1 -1]\n",
      "[    -1     -1     -1     -1 109937 111841     -1 109654     -1 109352\n",
      "     -1     -1 109410     -1     -1 109754]\n",
      "[-1 -1 -1 -1 -1  1 -1 -1 -1 -1 -1 -1 -1 -1 -1 -1 -1  1 -1  1 -1]\n",
      "[43325 43082 41323 42564 42312 42884 42679    -1    -1    -1 44191 42540\n",
      " 42570 41639 44299 43023 45189 43347 45344    -1 44816]\n",
      "[ 1  1 -1 -1 -1 -1 -1  1]\n",
      "[92112 92056 89937 96100 92782 97433 94083 94648]\n",
      "[-1 -1 -1 -1 -1 -1 -1 -1  1  1  1 -1 -1]\n",
      "[85922    -1    -1    -1    -1 86565 86019    -1 86284    -1    -1    -1\n",
      "    -1]\n",
      "[ 1  1 -1 -1 -1 -1  1 -1 -1 -1 -1]\n",
      "[   -1    -1    -1    -1    -1 67275 67459 67927    -1    -1    -1]\n",
      "[-1  1 -1  1 -1 -1 -1 -1  1]\n",
      "[   -1    -1 60998 60044 59504 61281 61384    -1    -1]\n",
      "[-1  1 -1 -1 -1 -1 -1 -1  1 -1 -1  1 -1 -1]\n",
      "[72659 72125    -1    -1    -1    -1    -1 71795    -1 71837    -1 71762\n",
      "    -1    -1]\n",
      "[-1 -1 -1 -1 -1  1 -1 -1  1 -1 -1 -1 -1 -1 -1  1]\n",
      "[   -1    -1 30060    -1    -1 29919    -1 29490 25769    -1 27949 29246\n",
      "    -1 30679 29730 27971]\n",
      "[-1 -1 -1 -1 -1 -1 -1  1 -1 -1 -1 -1 -1 -1  1 -1 -1 -1  1]\n",
      "[78650 78401 79050 77984 79881 78265 78104 79302 80079 79980 80473 78246\n",
      " 80399    -1 79404    -1 80112    -1 79399]\n",
      "[ 1 -1 -1 -1 -1  1 -1  1 -1 -1]\n",
      "[    -1     -1     -1 110778 110391     -1     -1 109786     -1 111449]\n",
      "[ 1 -1 -1 -1  1 -1 -1 -1 -1 -1  1]\n",
      "[88380 87072 88839 89020    -1 89153 88635 88567 87220 88060 88116]\n",
      "[-1 -1 -1 -1  1  1 -1 -1  1 -1 -1]\n",
      "[17313    -1 18434    -1 17448 17886 20252    -1 18246 18614 19335]\n",
      "[-1  1 -1  1  1 -1 -1 -1]\n",
      "[82925 81266    -1    -1 80763 80473    -1 80815]\n",
      "[-1 -1 -1  1  1 -1  1]\n",
      "[82321 86414    -1    -1 83947 84835    -1]\n",
      "[ 1 -1 -1 -1 -1 -1 -1 -1 -1  1  1 -1 -1 -1 -1]\n",
      "[  -1   -1   -1   -1 8240   -1 7978   -1 9007 7083   -1 8241 9095   -1 8837]\n",
      "[ 1 -1 -1 -1 -1 -1 -1 -1 -1  1  1 -1 -1 -1 -1 -1 -1]\n",
      "[    -1     -1     -1 102618     -1 100027     -1 101923     -1     -1\n",
      "     -1     -1 103045 100064     -1 100310 103401]\n",
      "[-1  1 -1 -1 -1 -1  1 -1 -1 -1 -1  1 -1 -1]\n",
      "[    -1 102333     -1     -1  99747     -1     -1     -1 100751     -1\n",
      "     -1     -1     -1  99120]\n",
      "[-1  1 -1 -1 -1 -1 -1 -1  1  1 -1 -1 -1 -1 -1]\n",
      "[    -1 113562 114119 112529     -1 114341 114375     -1     -1     -1\n",
      "     -1 111449     -1     -1     -1]\n",
      "[ 1 -1  1 -1 -1 -1  1]\n",
      "[14879    -1    -1 13265 13147 13202    -1]\n",
      "[ 1 -1 -1 -1 -1 -1  1 -1 -1 -1 -1 -1  1 -1 -1]\n",
      "[18805 20219 20901 19740 20522 19860 19799 21036 20400 19719 20732 18975\n",
      " 18724 20261    -1]\n",
      "[-1 -1 -1 -1 -1 -1 -1 -1  1  1  1 -1 -1 -1 -1]\n",
      "[   -1    -1    -1    -1    -1 73555 71618    -1 73369 72582    -1    -1\n",
      "    -1    -1 71075]\n",
      "[-1 -1 -1 -1 -1 -1 -1  1 -1 -1  1 -1  1 -1 -1 -1 -1 -1]\n",
      "[26366 26126 26207    -1 25473 24450 25142 24555 25813 26594    -1 25336\n",
      "    -1    -1 26215 25861 26176    -1]\n",
      "[-1 -1 -1  1 -1  1 -1  1 -1 -1 -1]\n",
      "[69389 68520    -1    -1    -1    -1    -1    -1 69612    -1    -1]\n",
      "[-1 -1 -1 -1  1 -1 -1 -1 -1 -1  1  1 -1 -1]\n",
      "[   -1    -1    -1 44405    -1    -1    -1 44946 46750    -1 46146    -1\n",
      "    -1    -1]\n",
      "[ 1  1 -1 -1 -1 -1 -1 -1 -1 -1 -1  1 -1 -1 -1 -1]\n",
      "[110997 111043 109268     -1 109973     -1     -1     -1     -1     -1\n",
      "     -1 110506 109908     -1     -1 107649]\n",
      "[-1 -1 -1 -1  1 -1 -1 -1 -1 -1 -1 -1  1  1]\n",
      "[   -1    -1    -1    -1 81377    -1 80894 82369 80628    -1 79540    -1\n",
      "    -1    -1]\n",
      "[-1 -1 -1 -1  1  1  1]\n",
      "[13702 15627 12332 15737 13914 15110 14838]\n",
      "[-1  1 -1 -1 -1 -1 -1  1 -1  1 -1 -1 -1 -1 -1 -1 -1 -1]\n",
      "[89369 89153    -1    -1 86736 88116 89439 88380 88816    -1    -1 90289\n",
      "    -1    -1    -1    -1 89341    -1]\n",
      "[ 1  1 -1 -1]\n",
      "[42604 41075    -1 43531]\n",
      "[-1  1 -1 -1 -1 -1 -1 -1 -1 -1  1 -1  1]\n",
      "[   -1    -1 19849 19777    -1    -1 19011    -1    -1    -1 19587    -1\n",
      " 19483]\n",
      "[-1 -1  1 -1 -1 -1 -1 -1 -1 -1 -1 -1  1 -1  1 -1]\n",
      "[  -1 5165   -1 6592 6867   -1   -1   -1   -1   -1 4890   -1   -1   -1 5300\n",
      " 5862]\n",
      "[ 1 -1 -1  1  1 -1]\n",
      "[111710 111497     -1     -1     -1 110960]\n",
      "[-1 -1 -1 -1 -1 -1 -1 -1 -1 -1  1 -1 -1  1  1]\n",
      "[   -1    -1    -1 37204    -1 37946 37265    -1 38016 35907 35710    -1\n",
      "    -1    -1    -1]\n",
      "[ 1  1 -1 -1 -1 -1 -1 -1 -1 -1 -1 -1  1 -1 -1]\n",
      "[   -1    -1 90135    -1 91845 92202    -1    -1 91117    -1    -1 91726\n",
      " 91105    -1    -1]\n",
      "[ 1  1 -1 -1 -1 -1 -1 -1 -1 -1  1 -1 -1 -1 -1]\n",
      "[34922 34834 32765    -1 34081    -1 35020 35181 34802 35393 34899 34065\n",
      " 34670 36377    -1]\n",
      "[ 1 -1  1 -1 -1 -1  1]\n",
      "[60129 58590 60172    -1    -1    -1    -1]\n",
      "[-1 -1 -1 -1  1  1 -1  1 -1 -1 -1 -1 -1 -1 -1]\n",
      "[   -1    -1 92609 89042 93163    -1    -1    -1    -1    -1 89487 90797\n",
      " 92024    -1 90098]\n",
      "[-1  1 -1 -1 -1 -1  1 -1 -1  1]\n",
      "[110130 105858 111310 109081     -1 110838     -1 107773     -1     -1]\n",
      "[-1 -1  1 -1 -1 -1 -1 -1 -1  1  1 -1]\n",
      "[   -1 95585 96468    -1 95937    -1 97804 96556    -1    -1    -1    -1]\n",
      "[-1 -1 -1 -1 -1 -1 -1 -1  1 -1  1  1 -1 -1 -1]\n",
      "[   -1 98174    -1 98624 99240    -1    -1    -1    -1    -1    -1    -1\n",
      "    -1 97646 98608]\n",
      "[ 1 -1 -1 -1  1 -1  1 -1 -1 -1 -1 -1]\n",
      "[13782    -1    -1 14146    -1    -1    -1    -1 13288 12843    -1    -1]\n",
      "[-1  1 -1  1 -1 -1  1 -1 -1 -1 -1 -1 -1 -1]\n",
      "[   -1 73841    -1 73695    -1    -1    -1    -1 73909    -1    -1 73100\n",
      "    -1    -1]\n",
      "[ 1 -1  1 -1 -1  1 -1 -1 -1 -1 -1 -1 -1 -1]\n",
      "[84835 86414    -1    -1    -1    -1 86182    -1    -1    -1    -1 82321\n",
      "    -1    -1]\n",
      "[ 1 -1 -1 -1 -1 -1 -1  1 -1 -1 -1 -1  1]\n",
      "[   -1    -1 54682    -1    -1    -1 54477    -1 54255    -1 54204    -1\n",
      "    -1]\n",
      "[ 1 -1  1 -1 -1 -1  1]\n",
      "[   -1 32311    -1 33018 31579    -1    -1]\n",
      "[ 1  1 -1 -1  1 -1 -1 -1 -1]\n",
      "[   -1 95823 94160 93825 97749 94005 94114 93542 95347]\n",
      "[-1 -1 -1  1 -1  1 -1  1 -1 -1 -1]\n",
      "[62572    -1    -1    -1    -1 72573    -1    -1    -1 82080    -1]\n",
      "[ 1  1 -1 -1  1]\n",
      "[   -1 44798 43970 45410 44066]\n",
      "[ 1 -1  1 -1 -1 -1 -1 -1 -1  1]\n",
      "[   -1    -1 44824 45902 43825 46026    -1    -1    -1    -1]\n",
      "[-1  1 -1  1 -1 -1 -1  1]\n",
      "[69879    -1    -1    -1 67384 68103    -1    -1]\n",
      "[-1 -1 -1 -1  1  1  1 -1 -1 -1]\n",
      "[84405 84893    -1    -1    -1 85755 85340 84626    -1 84970]\n",
      "[-1  1 -1 -1 -1 -1  1 -1 -1 -1  1 -1 -1 -1]\n",
      "[   -1 28949    -1 28325 26563 27658 28744 28574 27366    -1    -1 28413\n",
      "    -1    -1]\n",
      "[ 1 -1 -1 -1  1 -1 -1 -1  1]\n",
      "[107517 107095 108868 109472     -1 108036     -1 107556 107382]\n",
      "[-1 -1  1  1 -1 -1 -1  1 -1 -1 -1 -1 -1 -1 -1]\n",
      "[57380    -1 57757    -1 57562    -1    -1    -1 58590    -1    -1 58110\n",
      "    -1 58510 58948]\n",
      "[ 1  1 -1 -1 -1  1 -1 -1 -1 -1 -1 -1 -1 -1 -1 -1]\n",
      "[   -1 70497    -1 69732 69713 69483    -1    -1 70791    -1    -1    -1\n",
      "    -1    -1    -1 69068]\n",
      "[-1  1 -1  1 -1  1 -1 -1 -1 -1]\n",
      "[90647    -1 79280 87234 80480 92112    -1 79822 84769 77055]\n",
      "[-1 -1  1 -1 -1 -1  1 -1 -1 -1 -1 -1  1]\n",
      "[45920 45631 47717 45941 46950 46283 47204 46594 46914    -1 47175 44511\n",
      " 48774]\n",
      "[-1  1  1 -1 -1 -1 -1  1]\n",
      "[81292    -1 81290    -1    -1 83608 81497    -1]\n",
      "[ 1  1 -1  1 -1 -1 -1 -1]\n",
      "[80975 82925 81724 81754    -1    -1    -1 80894]\n",
      "[-1  1 -1  1 -1  1]\n",
      "[12828 13327 13702 12832 13165    -1]\n",
      "[-1 -1 -1  1 -1 -1 -1 -1  1 -1 -1 -1  1]\n",
      "[10305 12530    -1 11791    -1 12387 12247 11738 11046    -1 10723 11021\n",
      "    -1]\n",
      "[ 1 -1 -1  1 -1  1 -1]\n",
      "[94624 94703 96275 95498 94827 95822 95560]\n",
      "[ 1 -1 -1  1 -1 -1 -1 -1  1 -1 -1 -1 -1 -1]\n",
      "[   -1 84033 84143    -1 81733 83057    -1 81702 84720    -1    -1 85389\n",
      "    -1 85079]\n",
      "[ 1 -1 -1 -1  1 -1  1 -1]\n",
      "[111188 109404     -1 109285 109422 111809     -1 109289]\n",
      "[ 1 -1 -1 -1  1 -1 -1 -1 -1 -1 -1 -1  1 -1 -1]\n",
      "[   -1 60221    -1 60965    -1    -1    -1    -1    -1    -1    -1 61296\n",
      "    -1 61174 59803]\n"
     ]
    }
   ],
   "source": [
    "# scenes = get_data('../data/input.csv')\n",
    "scenes = get_data('../example/input_sample.csv')\n",
    "results = get_data('../example/result_sample.csv', reshape=False, dtype=np.int)\n",
    "for scene,result in zip(scenes,results):\n",
    "    stars = identify_stars(scene, features)\n",
    "    print stars\n",
    "    print result"
   ]
  },
  {
   "cell_type": "code",
   "execution_count": null,
   "metadata": {
    "collapsed": true
   },
   "outputs": [],
   "source": []
  }
 ],
 "metadata": {
  "kernelspec": {
   "display_name": "Python 2",
   "language": "python",
   "name": "python2"
  },
  "language_info": {
   "codemirror_mode": {
    "name": "ipython",
    "version": 2
   },
   "file_extension": ".py",
   "mimetype": "text/x-python",
   "name": "python",
   "nbconvert_exporter": "python",
   "pygments_lexer": "ipython2",
   "version": "2.7.13"
  }
 },
 "nbformat": 4,
 "nbformat_minor": 0
}
