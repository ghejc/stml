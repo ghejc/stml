{
 "cells": [
  {
   "cell_type": "markdown",
   "metadata": {},
   "source": [
    "# Identify stars in images"
   ]
  },
  {
   "cell_type": "markdown",
   "metadata": {},
   "source": [
    "The star catalog **hip_main.dat** consists of columns separated by | and with no header. Column 2 is the star identifier, column 6 is the magnitude, column 9 and 10 are RA and DE in degrees."
   ]
  },
  {
   "cell_type": "code",
   "execution_count": 1,
   "metadata": {
    "collapsed": true
   },
   "outputs": [],
   "source": [
    "%matplotlib inline"
   ]
  },
  {
   "cell_type": "code",
   "execution_count": 2,
   "metadata": {
    "collapsed": false
   },
   "outputs": [],
   "source": [
    "import numpy as np\n",
    "import pandas as pd\n",
    "import matplotlib.pyplot as plt\n",
    "plt.style.use(\"ggplot\")"
   ]
  },
  {
   "cell_type": "code",
   "execution_count": 3,
   "metadata": {
    "collapsed": false,
    "scrolled": true
   },
   "outputs": [],
   "source": [
    "import simulator as sim\n",
    "import os"
   ]
  },
  {
   "cell_type": "code",
   "execution_count": 4,
   "metadata": {
    "collapsed": false
   },
   "outputs": [],
   "source": [
    "star_catalog = sim.StarCatalog('../data/hip_main.dat')"
   ]
  },
  {
   "cell_type": "code",
   "execution_count": 5,
   "metadata": {
    "collapsed": false
   },
   "outputs": [
    {
     "data": {
      "text/plain": [
       "117955"
      ]
     },
     "execution_count": 5,
     "metadata": {},
     "output_type": "execute_result"
    }
   ],
   "source": [
    "len(star_catalog.star_vectors)"
   ]
  },
  {
   "cell_type": "code",
   "execution_count": 6,
   "metadata": {
    "collapsed": false
   },
   "outputs": [
    {
     "data": {
      "text/plain": [
       "<matplotlib.axes._subplots.AxesSubplot at 0xafe70f0>"
      ]
     },
     "execution_count": 6,
     "metadata": {},
     "output_type": "execute_result"
    },
    {
     "data": {
      "image/png": "[encoded data removed]",
      "text/plain": [
       "<matplotlib.figure.Figure at 0x200f59e8>"
      ]
     },
     "metadata": {},
     "output_type": "display_data"
    }
   ],
   "source": [
    "pd.Series(star_catalog.magnitudes).hist(bins=50)"
   ]
  },
  {
   "cell_type": "markdown",
   "metadata": {},
   "source": [
    "The function *calc_md5* is used to calculate a MD5 checksum from the star catalog to detect changes of the file. In this case the features have to be recalculated."
   ]
  },
  {
   "cell_type": "code",
   "execution_count": 7,
   "metadata": {
    "collapsed": false
   },
   "outputs": [],
   "source": [
    "from hashlib import md5\n",
    "\n",
    "def calc_md5(file_name):\n",
    "    fd = open(file_name)\n",
    "    buffer = fd.read()\n",
    "    hash = md5(buffer)\n",
    "    fd.close()\n",
    "    return hash.hexdigest()"
   ]
  },
  {
   "cell_type": "code",
   "execution_count": 8,
   "metadata": {
    "collapsed": false
   },
   "outputs": [],
   "source": [
    "signature = calc_md5('../data/hip_main.dat')"
   ]
  },
  {
   "cell_type": "code",
   "execution_count": 9,
   "metadata": {
    "collapsed": false
   },
   "outputs": [],
   "source": [
    "def distance(v):\n",
    "    return np.sqrt(np.dot(v,v))\n",
    "\n",
    "def get_key(mag1,mag2,normalized_angle,distance_ratio):\n",
    "    key1 = '{:+d}'.format(int(np.rint(mag1*10.0)))\n",
    "    key2 = '{:+d}'.format(int(np.rint(mag2*10.0)))\n",
    "    key3 = '{:d}'.format(int(np.rint(normalized_angle * 10.0)))\n",
    "    key4 = '{:d}'.format(int(np.rint(distance_ratio * 10.0)))\n",
    "    return key3 + key4\n",
    "    \n",
    "def get_parameters(hips,relpos,relmag,distances):\n",
    "    \"Calculate the parameters for the nearest stars\"\n",
    "    param = list()\n",
    "    if hips != None:\n",
    "        param.extend(hips)\n",
    "    param.extend(relmag)\n",
    "    for index in range(len(distances)-1):\n",
    "        d1 = distances[index]\n",
    "        d2 = distances[index+1]\n",
    "        v1 = relpos[index]\n",
    "        v2 = relpos[index+1]\n",
    "        cosalpha = np.dot(v1,v2)/(d1*d2)\n",
    "        if np.abs(cosalpha) > 1.0:\n",
    "            cosalpha = min(1.0, cosalpha)\n",
    "            cosalpha = max(-1.0, cosalpha)\n",
    "        normalized_angle = np.arccos(cosalpha)/np.pi\n",
    "        param.append(normalized_angle)\n",
    "        v = d2/d1 # value is always >= 1, because stars are ordered by their relative distance\n",
    "        param.append(v)\n",
    "        if index == 0:\n",
    "            key = get_key(relmag[0],relmag[1],normalized_angle, v)\n",
    "    param.append(key)\n",
    "    return np.array(param)\n",
    "\n",
    "def get_columns(n):\n",
    "    \"Get the columns names of all features\"\n",
    "    cols = []\n",
    "    for i in range(n):\n",
    "        cols.append('hip' + str(i+1))\n",
    "    for i in range(n):\n",
    "        cols.append('relative_magnitude' + str(i+1))\n",
    "    if n > 1:\n",
    "        for i in range(n-1):\n",
    "            s = str(i+1) + str(i+2)\n",
    "            cols.append('normalized_angle' + s)\n",
    "            cols.append('relative_distance_ratio' + s)\n",
    "    cols.append('key')\n",
    "    return cols\n",
    "\n",
    "def get_nearest_stars(ids, dist, n=1):\n",
    "    \"Get the n nearest stars\"\n",
    "    stars = []\n",
    "    selection = np.array([True]*len(dist))\n",
    "    while len(stars) < n:\n",
    "        index = np.argmin(dist[selection])\n",
    "        identifier = ids[selection][index]\n",
    "        stars.append(identifier)\n",
    "        selection[ids == identifier] = False\n",
    "    return stars\n",
    "    "
   ]
  },
  {
   "cell_type": "code",
   "execution_count": 10,
   "metadata": {
    "collapsed": false
   },
   "outputs": [],
   "source": [
    "\n",
    "# check first if the features have been already calculated\n",
    "filename = '../data/hip_feat_' + str(signature) + '.csv'\n",
    "if os.path.exists(filename):\n",
    "    \n",
    "    features = pd.read_csv(filename, index_col = 0)\n",
    "\n",
    "else:\n",
    "\n",
    "    # find the N closest stars to each star in the catalog\n",
    "    N = 5\n",
    "    ids = star_catalog.catalog['HIP'].values\n",
    "    star_catalog.catalog.index = ids\n",
    "    cat = zip(ids, star_catalog.star_vectors,star_catalog.magnitudes)\n",
    "    features = pd.DataFrame(index = ids, \n",
    "                            columns = get_columns(N))\n",
    "\n",
    "    for hip, pos, mag in cat:\n",
    "\n",
    "        # get the nearest star\n",
    "        selection = ids != hip\n",
    "        dist = star_catalog.star_vectors[selection] - pos\n",
    "        dist2 = np.sum(dist * dist, axis=1)\n",
    "        nearest_stars = get_nearest_stars(ids[selection],dist2,n=N)\n",
    "        \n",
    "        hips = []\n",
    "        relpos = []\n",
    "        relmag = []\n",
    "        distances = []\n",
    "        for identifier in nearest_stars:\n",
    "            index = np.where(ids[selection] == identifier)[0][0]\n",
    "            hips.append(identifier)\n",
    "            relpos.append(dist[index])\n",
    "            relmag.append(star_catalog.magnitudes[selection][index] - mag)\n",
    "            distances.append(np.sqrt(dist2[index]))\n",
    "\n",
    "        # calculate star measures\n",
    "        features.ix[hip] = get_parameters(hips, relpos, relmag, distances)\n",
    "\n",
    "\n",
    "    features.to_csv(filename)"
   ]
  },
  {
   "cell_type": "code",
   "execution_count": 11,
   "metadata": {
    "collapsed": false
   },
   "outputs": [
    {
     "data": {
      "text/plain": [
       "<matplotlib.axes._subplots.AxesSubplot at 0xafe7080>"
      ]
     },
     "execution_count": 11,
     "metadata": {},
     "output_type": "execute_result"
    },
    {
     "data": {
      "image/png": "[encoded data removed]",
      "text/plain": [
       "<matplotlib.figure.Figure at 0xafe7240>"
      ]
     },
     "metadata": {},
     "output_type": "display_data"
    }
   ],
   "source": [
    "features['relative_distance_ratio12'][np.abs(features['relative_distance_ratio12']) < 10].hist(bins=50)"
   ]
  },
  {
   "cell_type": "code",
   "execution_count": 12,
   "metadata": {
    "collapsed": false
   },
   "outputs": [],
   "source": [
    "def get_data(filename, reshape=True):\n",
    "    fd = open(filename,'r')\n",
    "    lines = fd.readlines()\n",
    "    fd.close()\n",
    "    data = []\n",
    "    for line in lines:\n",
    "        arr = np.array(line.split(','),dtype = np.float)\n",
    "        if reshape:\n",
    "            arr = arr.reshape([len(arr) // 3, 3])\n",
    "        data.append(arr)\n",
    "    return data"
   ]
  },
  {
   "cell_type": "markdown",
   "metadata": {},
   "source": [
    "There are the following cases in the star identification:\n",
    "\n",
    "- the star can be a false star\n",
    "- the star is a real star, but there are false stars in the neigbourhood"
   ]
  },
  {
   "cell_type": "code",
   "execution_count": null,
   "metadata": {
    "collapsed": false
   },
   "outputs": [],
   "source": [
    "def identify_stars(scene, features):\n",
    "    \"Identifies all stars in the scene including false stars\"\n",
    "    count,length = scene.shape\n",
    "    selection = [True] * count\n",
    "    stars = np.zeros(count)\n",
    "    found = 0\n",
    "    while found < 3 and not np.all(selection == False):\n",
    "        # find the point in the scene, which is closest to the center\n",
    "        m = np.mean(scene[selection,0:2],axis=1)\n",
    "        x = scene[selection,0] - m[0]\n",
    "        y = scene[selection,1] - m[1]\n",
    "        dist2 = np.dot(x,x) + np.dot(y,y)\n",
    "        index = np.argmin(dist2)\n",
    "        selection[index] = False\n",
    "        others = scene[selection,:] - scene[index,:]\n",
    "        hip = classify_star(others, features)\n",
    "        if hip > 0:\n",
    "            stars[index] = hip\n",
    "            found = found + 1\n",
    "            \n",
    "            \n",
    "    return stars\n",
    "\n",
    "def classify_star(others, features):\n",
    "    \"Searches the features array for a matching star\"\n",
    "    x = others[:,0]\n",
    "    y = others[:,1]\n",
    "    dist2 = x*x + y*y\n",
    "    ids = np.arange(len(x))\n",
    "    nearest_stars = get_nearest_stars(ids,dist2,n=5)\n",
    "      \n",
    "    relpos = []\n",
    "    relmag = []\n",
    "    distances = []\n",
    "    for index in nearest_stars:\n",
    "        relpos.append(others[index,0:2])\n",
    "        relmag.append(others[index,2])\n",
    "        distances.append(np.sqrt(dist2[index]))\n",
    "        \n",
    "    params = get_parameters(None,relpos,relmag,distances)\n",
    "    key = params[-1]\n",
    "    \n",
    "    return 0"
   ]
  },
  {
   "cell_type": "code",
   "execution_count": null,
   "metadata": {
    "collapsed": false
   },
   "outputs": [],
   "source": [
    "# scenes = get_data('../data/input.csv')\n",
    "scenes = get_data('../example/input_sample.csv')\n",
    "results = get_data('../example/result_sample.csv', reshape=False)\n",
    "for scene,result in zip(scenes,results):\n",
    "    stars = identify_stars(scene, features)\n",
    "    print stars\n",
    "    print result"
   ]
  },
  {
   "cell_type": "code",
   "execution_count": null,
   "metadata": {
    "collapsed": true
   },
   "outputs": [],
   "source": []
  },
  {
   "cell_type": "code",
   "execution_count": null,
   "metadata": {
    "collapsed": true
   },
   "outputs": [],
   "source": []
  }
 ],
 "metadata": {
  "kernelspec": {
   "display_name": "Python 2",
   "language": "python",
   "name": "python2"
  },
  "language_info": {
   "codemirror_mode": {
    "name": "ipython",
    "version": 2
   },
   "file_extension": ".py",
   "mimetype": "text/x-python",
   "name": "python",
   "nbconvert_exporter": "python",
   "pygments_lexer": "ipython2",
   "version": "2.7.13"
  }
 },
 "nbformat": 4,
 "nbformat_minor": 0
}
