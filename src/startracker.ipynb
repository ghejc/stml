{
 "cells": [
  {
   "cell_type": "markdown",
   "metadata": {},
   "source": [
    "# Identify stars in images"
   ]
  },
  {
   "cell_type": "markdown",
   "metadata": {},
   "source": [
    "The star catalog **hip_main.dat** consists of columns separated by | and with no header. Column 2 is the star identifier, column 6 is the magnitude, column 9 and 10 are RA and DE in degrees."
   ]
  },
  {
   "cell_type": "code",
   "execution_count": 142,
   "metadata": {
    "collapsed": true
   },
   "outputs": [],
   "source": [
    "%matplotlib inline"
   ]
  },
  {
   "cell_type": "code",
   "execution_count": 143,
   "metadata": {
    "collapsed": false
   },
   "outputs": [],
   "source": [
    "import numpy as np\n",
    "import pandas as pd\n",
    "import matplotlib.pyplot as plt\n",
    "plt.style.use(\"ggplot\")"
   ]
  },
  {
   "cell_type": "code",
   "execution_count": 144,
   "metadata": {
    "collapsed": false,
    "scrolled": true
   },
   "outputs": [],
   "source": [
    "import simulator as sim\n",
    "import os"
   ]
  },
  {
   "cell_type": "code",
   "execution_count": 145,
   "metadata": {
    "collapsed": false
   },
   "outputs": [],
   "source": [
    "star_catalog = sim.StarCatalog('../data/hip_main.dat')"
   ]
  },
  {
   "cell_type": "code",
   "execution_count": 146,
   "metadata": {
    "collapsed": false
   },
   "outputs": [
    {
     "data": {
      "text/plain": [
       "117955"
      ]
     },
     "execution_count": 146,
     "metadata": {},
     "output_type": "execute_result"
    }
   ],
   "source": [
    "len(star_catalog.star_vectors)"
   ]
  },
  {
   "cell_type": "code",
   "execution_count": 147,
   "metadata": {
    "collapsed": false
   },
   "outputs": [
    {
     "data": {
      "text/plain": [
       "<matplotlib.axes._subplots.AxesSubplot at 0x319f8ef0>"
      ]
     },
     "execution_count": 147,
     "metadata": {},
     "output_type": "execute_result"
    },
    {
     "data": {
      "image/png": "[encoded data removed]",
      "text/plain": [
       "<matplotlib.figure.Figure at 0x2ce00320>"
      ]
     },
     "metadata": {},
     "output_type": "display_data"
    }
   ],
   "source": [
    "pd.Series(star_catalog.magnitudes).hist(bins=50)"
   ]
  },
  {
   "cell_type": "markdown",
   "metadata": {},
   "source": [
    "The function *calc_md5* is used to calculate a MD5 checksum from the star catalog to detect changes of the file. In this case the features have to be recalculated."
   ]
  },
  {
   "cell_type": "code",
   "execution_count": 148,
   "metadata": {
    "collapsed": false
   },
   "outputs": [],
   "source": [
    "from hashlib import md5\n",
    "\n",
    "def calc_md5(file_name):\n",
    "    fd = open(file_name)\n",
    "    buffer = fd.read()\n",
    "    hash = md5(buffer)\n",
    "    fd.close()\n",
    "    return hash.hexdigest()"
   ]
  },
  {
   "cell_type": "code",
   "execution_count": 149,
   "metadata": {
    "collapsed": false
   },
   "outputs": [],
   "source": [
    "signature = calc_md5('../data/hip_main.dat')"
   ]
  },
  {
   "cell_type": "code",
   "execution_count": null,
   "metadata": {
    "collapsed": true
   },
   "outputs": [],
   "source": [
    "def distance(v):\n",
    "    return np.sqrt(np.dot(v,v))\n",
    "\n",
    "def get_parameters(hips,relpos,relmag,distances):\n",
    "    \"Calculate the parameters for the nearest stars\"\n",
    "    param = list(hips)\n",
    "    param.extend(relmag)\n",
    "    for index in range(len(hips)-1):\n",
    "        d1 = distances[index]\n",
    "        d2 = distances[index+1]\n",
    "        v1 = relpos[index]\n",
    "        v2 = relpos[index+1]\n",
    "        cosalpha = np.dot(v1,v2)/(d1*d2)\n",
    "        if np.abs(cosalpha) > 1.0:\n",
    "            cosalpha = min(1.0, cosalpha)\n",
    "            cosalpha = max(-1.0, cosalpha)\n",
    "        param.append(cosalpha)\n",
    "        param.append(d2/d1)\n",
    "    return np.array(param)\n",
    "\n",
    "def get_columns(n):\n",
    "    \"Get the columns names of all features\"\n",
    "    cols = []\n",
    "    for i in range(n):\n",
    "        cols.append('hip' + str(i+1))\n",
    "    for i in range(n):\n",
    "        cols.append('relative_magnitude' + str(i+1))\n",
    "    if n > 1:\n",
    "        for i in range(n-1):\n",
    "            s = str(i+1) + str(i+2)\n",
    "            cols.append('normalized_angle' + s)\n",
    "            cols.append('relative_distance_ratio' + s)\n",
    "    return cols\n",
    "\n",
    "def get_nearest_stars(ids, dist, n=1):\n",
    "    \"Get the n nearest stars\"\n",
    "    stars = []\n",
    "    selection = np.array([True]*len(dist))\n",
    "    while len(stars) < n:\n",
    "        index = np.argmin(dist[selection])\n",
    "        identifier = ids[selection][index]\n",
    "        stars.append(identifier)\n",
    "        selection[ids == identifier] = False\n",
    "    return stars\n",
    "    "
   ]
  },
  {
   "cell_type": "code",
   "execution_count": null,
   "metadata": {
    "collapsed": false
   },
   "outputs": [],
   "source": [
    "\n",
    "# check first if the features have been already calculated\n",
    "filename = '../data/hip_feat_' + str(signature) + '.csv'\n",
    "if os.path.exists(filename):\n",
    "    \n",
    "    features = pd.read_csv(filename, index_col = 0)\n",
    "\n",
    "else:\n",
    "\n",
    "    # find the N closest stars to each star in the catalog\n",
    "    N = 2\n",
    "    ids = star_catalog.catalog['HIP'].values\n",
    "    star_catalog.catalog.index = ids\n",
    "    cat = zip(ids, star_catalog.star_vectors,star_catalog.magnitudes)\n",
    "    features = pd.DataFrame(index = ids, \n",
    "                            columns = get_columns(N))\n",
    "\n",
    "    for hip, pos, mag in cat:\n",
    "\n",
    "        # get the nearest star\n",
    "        selection = ids != hip\n",
    "        dist = star_catalog.star_vectors[selection] - pos\n",
    "        dist2 = np.sum(dist * dist, axis=1)\n",
    "        nearest_stars = get_nearest_stars(ids[selection],dist2,n=N)\n",
    "        \n",
    "        hips = []\n",
    "        relpos = []\n",
    "        relmag = []\n",
    "        distances = []\n",
    "        for identifier in nearest_stars:\n",
    "            index = np.where(ids[selection] == identifier)[0][0]\n",
    "            hips.append(identifier)\n",
    "            relpos.append(dist[index])\n",
    "            relmag.append(star_catalog.magnitudes[selection][index] - mag)\n",
    "            distances.append(np.sqrt(dist2[index]))\n",
    "\n",
    "        # calculate star measures\n",
    "        features.ix[hip] = get_parameters(hips, relpos, relmag, distances)\n",
    "\n",
    "\n",
    "    features.to_csv(filename)"
   ]
  },
  {
   "cell_type": "code",
   "execution_count": null,
   "metadata": {
    "collapsed": false
   },
   "outputs": [],
   "source": [
    "features['relative_distance_ratio12'][np.abs(features['relative_distance_ratio12']) < 10].hist(bins=50)"
   ]
  },
  {
   "cell_type": "code",
   "execution_count": null,
   "metadata": {
    "collapsed": true
   },
   "outputs": [],
   "source": []
  }
 ],
 "metadata": {
  "kernelspec": {
   "display_name": "Python 2",
   "language": "python",
   "name": "python2"
  },
  "language_info": {
   "codemirror_mode": {
    "name": "ipython",
    "version": 2
   },
   "file_extension": ".py",
   "mimetype": "text/x-python",
   "name": "python",
   "nbconvert_exporter": "python",
   "pygments_lexer": "ipython2",
   "version": "2.7.13"
  }
 },
 "nbformat": 4,
 "nbformat_minor": 0
}
