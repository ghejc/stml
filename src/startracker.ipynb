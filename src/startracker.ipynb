{
 "cells": [
  {
   "cell_type": "markdown",
   "metadata": {},
   "source": [
    "# Identify stars in images"
   ]
  },
  {
   "cell_type": "markdown",
   "metadata": {},
   "source": [
    "The star catalog **hip_main.dat** consists of columns separated by | and with no header. Column 2 is the star identifier, column 6 is the magnitude, column 9 and 10 are RA and DE in degrees."
   ]
  },
  {
   "cell_type": "code",
   "execution_count": 1,
   "metadata": {
    "collapsed": true
   },
   "outputs": [],
   "source": [
    "%matplotlib inline"
   ]
  },
  {
   "cell_type": "code",
   "execution_count": 2,
   "metadata": {
    "collapsed": false
   },
   "outputs": [],
   "source": [
    "import numpy as np\n",
    "import pandas as pd\n",
    "import matplotlib.pyplot as plt\n",
    "plt.style.use(\"ggplot\")"
   ]
  },
  {
   "cell_type": "code",
   "execution_count": 3,
   "metadata": {
    "collapsed": false,
    "scrolled": true
   },
   "outputs": [],
   "source": [
    "import simulator as sim\n",
    "import os"
   ]
  },
  {
   "cell_type": "code",
   "execution_count": 4,
   "metadata": {
    "collapsed": false
   },
   "outputs": [],
   "source": [
    "star_catalog = sim.StarCatalog('../data/hip_main.dat')"
   ]
  },
  {
   "cell_type": "code",
   "execution_count": 5,
   "metadata": {
    "collapsed": false
   },
   "outputs": [
    {
     "data": {
      "text/plain": [
       "117955"
      ]
     },
     "execution_count": 5,
     "metadata": {},
     "output_type": "execute_result"
    }
   ],
   "source": [
    "len(star_catalog.star_vectors)"
   ]
  },
  {
   "cell_type": "code",
   "execution_count": 6,
   "metadata": {
    "collapsed": false
   },
   "outputs": [
    {
     "data": {
      "text/plain": [
       "-1.4399999999999999"
      ]
     },
     "execution_count": 6,
     "metadata": {},
     "output_type": "execute_result"
    }
   ],
   "source": [
    "np.min(star_catalog.magnitudes)"
   ]
  },
  {
   "cell_type": "code",
   "execution_count": 7,
   "metadata": {
    "collapsed": false
   },
   "outputs": [
    {
     "data": {
      "text/plain": [
       "<matplotlib.axes._subplots.AxesSubplot at 0x2006ff98>"
      ]
     },
     "execution_count": 7,
     "metadata": {},
     "output_type": "execute_result"
    },
    {
     "data": {
      "image/png": "[encoded data removed]",
      "text/plain": [
       "<matplotlib.figure.Figure at 0x20081ac8>"
      ]
     },
     "metadata": {},
     "output_type": "display_data"
    }
   ],
   "source": [
    "pd.Series(star_catalog.magnitudes).hist(bins=50)"
   ]
  },
  {
   "cell_type": "markdown",
   "metadata": {},
   "source": [
    "The function *calc_md5* is used to calculate a MD5 checksum from the star catalog to detect changes of the file. In this case the features have to be recalculated."
   ]
  },
  {
   "cell_type": "code",
   "execution_count": 8,
   "metadata": {
    "collapsed": false
   },
   "outputs": [],
   "source": [
    "from hashlib import md5\n",
    "\n",
    "def calc_md5(file_name):\n",
    "    \"Calculates the MD5 checksum of a file content\"\n",
    "    fd = open(file_name)\n",
    "    buffer = fd.read()\n",
    "    hash = md5(buffer)\n",
    "    fd.close()\n",
    "    return hash.hexdigest()"
   ]
  },
  {
   "cell_type": "code",
   "execution_count": 9,
   "metadata": {
    "collapsed": false
   },
   "outputs": [],
   "source": [
    "def distance(v):\n",
    "    return np.sqrt(np.dot(v,v))\n",
    "\n",
    "def make_zero_if_negative(x):\n",
    "    \"Negative values are mapped to zero\"\n",
    "    return x if x > 0 else 0\n",
    "\n",
    "def get_key(mag1,mag2,normalized_angle,distance_ratio):\n",
    "    \"Generates an integer key based on parameters of two neighbouring stars\"\n",
    "    mag_min = -2\n",
    "    # a magnitude smaller than -2 is mapped to zero\n",
    "    key1 = '{:d}'.format(int(np.rint(make_zero_if_negative(mag1 - mag_min))))\n",
    "    key2 = '{:d}'.format(int(np.rint(make_zero_if_negative(mag2 - mag_min))))\n",
    "    key3 = '{:d}'.format(int(np.rint(normalized_angle * 10.0)))\n",
    "    key4 = '{:d}'.format(int(np.rint(distance_ratio * 10.0)))\n",
    "    return int(key1 + key2 + key3 + key4)\n",
    "    \n",
    "def get_parameters(hips,relpos,relmag,distances):\n",
    "    \"Calculate the parameters for the nearest stars\"\n",
    "    param = list()\n",
    "    n = len(distances)\n",
    "    if hips != None:\n",
    "        param.extend(hips)\n",
    "    param.extend(relmag)\n",
    "    key = np.nan\n",
    "    for index in range(n-1):\n",
    "        d1 = distances[index]\n",
    "        d2 = distances[index+1]\n",
    "        v1 = relpos[index]\n",
    "        v2 = relpos[index+1]\n",
    "        cosalpha = np.dot(v1,v2)/(d1*d2)\n",
    "        if np.abs(cosalpha) > 1.0:\n",
    "            cosalpha = min(1.0, cosalpha)\n",
    "            cosalpha = max(-1.0, cosalpha)\n",
    "        normalized_angle = np.arccos(cosalpha)/np.pi\n",
    "        param.append(normalized_angle)\n",
    "        v = d2/d1 # value is always >= 1, because stars are ordered by their relative distance\n",
    "        param.append(v)\n",
    "        if index == 0:\n",
    "            key = get_key(relmag[0],relmag[1],normalized_angle, v)\n",
    "    param.append(key)\n",
    "    return np.array(param)\n",
    "\n",
    "def get_columns(n):\n",
    "    \"Get the columns names of all features\"\n",
    "    cols = []\n",
    "    for i in range(n):\n",
    "        cols.append('hip' + str(i+1))\n",
    "    for i in range(n):\n",
    "        cols.append('relative_magnitude' + str(i+1))\n",
    "    if n > 1:\n",
    "        for i in range(n-1):\n",
    "            s = str(i+1) + str(i+2)\n",
    "            cols.append('normalized_angle' + s)\n",
    "            cols.append('relative_distance_ratio' + s)\n",
    "    cols.append('key')\n",
    "    return cols\n",
    "\n",
    "def get_nearest_stars(ids, dist, n=1):\n",
    "    \"Get the n nearest stars\"\n",
    "    stars = []\n",
    "    num_stars = min(n,len(dist))\n",
    "    selection = np.array([True]*len(dist))\n",
    "    while len(stars) < num_stars:\n",
    "        index = np.argmin(dist[selection])\n",
    "        identifier = ids[selection][index]\n",
    "        stars.append(identifier)\n",
    "        selection[ids == identifier] = False\n",
    "    return stars   "
   ]
  },
  {
   "cell_type": "markdown",
   "metadata": {},
   "source": [
    "Calculate all the features based on **hip_main.dat**, which are used for classification"
   ]
  },
  {
   "cell_type": "code",
   "execution_count": 10,
   "metadata": {
    "collapsed": false
   },
   "outputs": [
    {
     "ename": "KeyboardInterrupt",
     "evalue": "",
     "output_type": "error",
     "traceback": [
      "\u001b[0;31m---------------------------------------------------------------------------\u001b[0m",
      "\u001b[0;31mKeyboardInterrupt\u001b[0m                         Traceback (most recent call last)",
      "\u001b[0;32m<ipython-input-10-6e70673cf07e>\u001b[0m in \u001b[0;36m<module>\u001b[0;34m()\u001b[0m\n\u001b[1;32m     22\u001b[0m         \u001b[0mselection\u001b[0m \u001b[1;33m=\u001b[0m \u001b[0mids\u001b[0m \u001b[1;33m!=\u001b[0m \u001b[0mhip\u001b[0m\u001b[1;33m\u001b[0m\u001b[0m\n\u001b[1;32m     23\u001b[0m         \u001b[0mdist\u001b[0m \u001b[1;33m=\u001b[0m \u001b[0mstar_catalog\u001b[0m\u001b[1;33m.\u001b[0m\u001b[0mstar_vectors\u001b[0m\u001b[1;33m[\u001b[0m\u001b[0mselection\u001b[0m\u001b[1;33m]\u001b[0m \u001b[1;33m-\u001b[0m \u001b[0mpos\u001b[0m\u001b[1;33m\u001b[0m\u001b[0m\n\u001b[0;32m---> 24\u001b[0;31m         \u001b[0mdist2\u001b[0m \u001b[1;33m=\u001b[0m \u001b[0mnp\u001b[0m\u001b[1;33m.\u001b[0m\u001b[0msum\u001b[0m\u001b[1;33m(\u001b[0m\u001b[0mdist\u001b[0m \u001b[1;33m*\u001b[0m \u001b[0mdist\u001b[0m\u001b[1;33m,\u001b[0m \u001b[0maxis\u001b[0m\u001b[1;33m=\u001b[0m\u001b[1;36m1\u001b[0m\u001b[1;33m)\u001b[0m\u001b[1;33m\u001b[0m\u001b[0m\n\u001b[0m\u001b[1;32m     25\u001b[0m         \u001b[0mnearest_stars\u001b[0m \u001b[1;33m=\u001b[0m \u001b[0mget_nearest_stars\u001b[0m\u001b[1;33m(\u001b[0m\u001b[0mids\u001b[0m\u001b[1;33m[\u001b[0m\u001b[0mselection\u001b[0m\u001b[1;33m]\u001b[0m\u001b[1;33m,\u001b[0m\u001b[0mdist2\u001b[0m\u001b[1;33m,\u001b[0m\u001b[0mn\u001b[0m\u001b[1;33m=\u001b[0m\u001b[0mN\u001b[0m\u001b[1;33m)\u001b[0m\u001b[1;33m\u001b[0m\u001b[0m\n\u001b[1;32m     26\u001b[0m \u001b[1;33m\u001b[0m\u001b[0m\n",
      "\u001b[0;32mC:\\Anaconda\\lib\\site-packages\\numpy\\core\\fromnumeric.pyc\u001b[0m in \u001b[0;36msum\u001b[0;34m(a, axis, dtype, out, keepdims)\u001b[0m\n\u001b[1;32m   1812\u001b[0m             \u001b[1;32mreturn\u001b[0m \u001b[0msum\u001b[0m\u001b[1;33m(\u001b[0m\u001b[0maxis\u001b[0m\u001b[1;33m=\u001b[0m\u001b[0maxis\u001b[0m\u001b[1;33m,\u001b[0m \u001b[0mdtype\u001b[0m\u001b[1;33m=\u001b[0m\u001b[0mdtype\u001b[0m\u001b[1;33m,\u001b[0m \u001b[0mout\u001b[0m\u001b[1;33m=\u001b[0m\u001b[0mout\u001b[0m\u001b[1;33m,\u001b[0m \u001b[1;33m**\u001b[0m\u001b[0mkwargs\u001b[0m\u001b[1;33m)\u001b[0m\u001b[1;33m\u001b[0m\u001b[0m\n\u001b[1;32m   1813\u001b[0m     return _methods._sum(a, axis=axis, dtype=dtype,\n\u001b[0;32m-> 1814\u001b[0;31m                          out=out, **kwargs)\n\u001b[0m\u001b[1;32m   1815\u001b[0m \u001b[1;33m\u001b[0m\u001b[0m\n\u001b[1;32m   1816\u001b[0m \u001b[1;33m\u001b[0m\u001b[0m\n",
      "\u001b[0;32mC:\\Anaconda\\lib\\site-packages\\numpy\\core\\_methods.pyc\u001b[0m in \u001b[0;36m_sum\u001b[0;34m(a, axis, dtype, out, keepdims)\u001b[0m\n\u001b[1;32m     30\u001b[0m \u001b[1;33m\u001b[0m\u001b[0m\n\u001b[1;32m     31\u001b[0m \u001b[1;32mdef\u001b[0m \u001b[0m_sum\u001b[0m\u001b[1;33m(\u001b[0m\u001b[0ma\u001b[0m\u001b[1;33m,\u001b[0m \u001b[0maxis\u001b[0m\u001b[1;33m=\u001b[0m\u001b[0mNone\u001b[0m\u001b[1;33m,\u001b[0m \u001b[0mdtype\u001b[0m\u001b[1;33m=\u001b[0m\u001b[0mNone\u001b[0m\u001b[1;33m,\u001b[0m \u001b[0mout\u001b[0m\u001b[1;33m=\u001b[0m\u001b[0mNone\u001b[0m\u001b[1;33m,\u001b[0m \u001b[0mkeepdims\u001b[0m\u001b[1;33m=\u001b[0m\u001b[0mFalse\u001b[0m\u001b[1;33m)\u001b[0m\u001b[1;33m:\u001b[0m\u001b[1;33m\u001b[0m\u001b[0m\n\u001b[0;32m---> 32\u001b[0;31m     \u001b[1;32mreturn\u001b[0m \u001b[0mumr_sum\u001b[0m\u001b[1;33m(\u001b[0m\u001b[0ma\u001b[0m\u001b[1;33m,\u001b[0m \u001b[0maxis\u001b[0m\u001b[1;33m,\u001b[0m \u001b[0mdtype\u001b[0m\u001b[1;33m,\u001b[0m \u001b[0mout\u001b[0m\u001b[1;33m,\u001b[0m \u001b[0mkeepdims\u001b[0m\u001b[1;33m)\u001b[0m\u001b[1;33m\u001b[0m\u001b[0m\n\u001b[0m\u001b[1;32m     33\u001b[0m \u001b[1;33m\u001b[0m\u001b[0m\n\u001b[1;32m     34\u001b[0m \u001b[1;32mdef\u001b[0m \u001b[0m_prod\u001b[0m\u001b[1;33m(\u001b[0m\u001b[0ma\u001b[0m\u001b[1;33m,\u001b[0m \u001b[0maxis\u001b[0m\u001b[1;33m=\u001b[0m\u001b[0mNone\u001b[0m\u001b[1;33m,\u001b[0m \u001b[0mdtype\u001b[0m\u001b[1;33m=\u001b[0m\u001b[0mNone\u001b[0m\u001b[1;33m,\u001b[0m \u001b[0mout\u001b[0m\u001b[1;33m=\u001b[0m\u001b[0mNone\u001b[0m\u001b[1;33m,\u001b[0m \u001b[0mkeepdims\u001b[0m\u001b[1;33m=\u001b[0m\u001b[0mFalse\u001b[0m\u001b[1;33m)\u001b[0m\u001b[1;33m:\u001b[0m\u001b[1;33m\u001b[0m\u001b[0m\n",
      "\u001b[0;31mKeyboardInterrupt\u001b[0m: "
     ]
    }
   ],
   "source": [
    "# check first if the features have been already calculated\n",
    "signature = calc_md5('../data/hip_main.dat')\n",
    "\n",
    "filename = '../data/hip_feat_' + str(signature) + '.csv'\n",
    "if os.path.exists(filename):\n",
    "    \n",
    "    features = pd.read_csv(filename, index_col = 0)\n",
    "\n",
    "else:\n",
    "\n",
    "    # find the N closest stars to each star in the catalog\n",
    "    N = 5\n",
    "    ids = star_catalog.catalog['HIP'].values\n",
    "    star_catalog.catalog.index = ids\n",
    "    cat = zip(ids, star_catalog.star_vectors,star_catalog.magnitudes)\n",
    "    features = pd.DataFrame(index = ids, \n",
    "                            columns = get_columns(N))\n",
    "\n",
    "    for hip, pos, mag in cat:\n",
    "\n",
    "        # get the nearest star\n",
    "        selection = ids != hip\n",
    "        dist = star_catalog.star_vectors[selection] - pos\n",
    "        dist2 = np.sum(dist * dist, axis=1)\n",
    "        nearest_stars = get_nearest_stars(ids[selection],dist2,n=N)\n",
    "        \n",
    "        hips = []\n",
    "        relpos = []\n",
    "        relmag = []\n",
    "        distances = []\n",
    "        for identifier in nearest_stars:\n",
    "            index = np.where(ids[selection] == identifier)[0][0]\n",
    "            hips.append(identifier)\n",
    "            relpos.append(dist[index])\n",
    "            relmag.append(star_catalog.magnitudes[selection][index] - mag)\n",
    "            distances.append(np.sqrt(dist2[index]))\n",
    "\n",
    "        # calculate star measures\n",
    "        features.ix[hip] = get_parameters(hips, relpos, relmag, distances)\n",
    "\n",
    "\n",
    "    features.to_csv(filename)"
   ]
  },
  {
   "cell_type": "code",
   "execution_count": null,
   "metadata": {
    "collapsed": false
   },
   "outputs": [],
   "source": [
    "features['relative_distance_ratio12'][np.abs(features['relative_distance_ratio12']) < 10].hist(bins=50)"
   ]
  },
  {
   "cell_type": "code",
   "execution_count": null,
   "metadata": {
    "collapsed": false
   },
   "outputs": [],
   "source": [
    "def get_data(filename, reshape=True, dtype = np.float):\n",
    "    fd = open(filename,'r')\n",
    "    lines = fd.readlines()\n",
    "    fd.close()\n",
    "    data = []\n",
    "    for line in lines:\n",
    "        arr = np.array(line.split(','),dtype = dtype)\n",
    "        if reshape:\n",
    "            arr = arr.reshape([len(arr) // 3, 3])\n",
    "        data.append(arr)\n",
    "    return data"
   ]
  },
  {
   "cell_type": "markdown",
   "metadata": {},
   "source": [
    "There are the following cases in the star identification:\n",
    "\n",
    "- the star can be a false star\n",
    "- the star is a real star, but there are false stars in the neigbourhood"
   ]
  },
  {
   "cell_type": "code",
   "execution_count": null,
   "metadata": {
    "collapsed": false
   },
   "outputs": [],
   "source": [
    "def identify_stars(scene, features):\n",
    "    \"Identifies all stars in the scene including false stars\"\n",
    "    count,length = scene.shape\n",
    "    selection = np.array([True] * count)\n",
    "    stars = np.zeros(count,dtype=np.int)\n",
    "    found = 0\n",
    "    # find the point in the scene, which is closest to the center\n",
    "    m = np.mean(scene[:,0:2], axis=1)\n",
    "    x = scene[:,0] - m[0]\n",
    "    y = scene[:,1] - m[1]\n",
    "    dist2 = x*x + y*y\n",
    "    # identify at most 2 stars in a scene\n",
    "    while found < 3 and not np.all(selection == False):\n",
    "        index = np.argmin(dist2)\n",
    "        selection[index] = False\n",
    "        dist2[index] = np.inf\n",
    "        others = scene[selection,:] - scene[index,:]\n",
    "        hip = classify_star(others, features)\n",
    "        if hip > 0:\n",
    "            stars[index] = hip\n",
    "            found = found + 1\n",
    "    # if 2 stars have been identified, identify remaining stars as known or false\n",
    "    if found > 1:\n",
    "        # check if the distance between the two stars matches with the distance in the scene\n",
    "        pass\n",
    "    \n",
    "    stars[stars == 0] = -1\n",
    "    return stars\n",
    "\n",
    "def classify_star(others, features):\n",
    "    \"Searches the features array for a matching star\"\n",
    "    x = others[:,0]\n",
    "    y = others[:,1]\n",
    "    dist2 = x*x + y*y\n",
    "    ids = np.arange(len(x))\n",
    "    nearest_stars = get_nearest_stars(ids,dist2,n=5)\n",
    "      \n",
    "    relpos = []\n",
    "    relmag = []\n",
    "    distances = []\n",
    "    for index in nearest_stars:\n",
    "        relpos.append(others[index,0:2])\n",
    "        relmag.append(others[index,2])\n",
    "        distances.append(np.sqrt(dist2[index]))\n",
    "        \n",
    "    params = get_parameters(None,relpos,relmag,distances)\n",
    "    key = params[-1]\n",
    "    # key can be NaN\n",
    "    found = features[features['key'] == key]\n",
    "    return len(found) > 0"
   ]
  },
  {
   "cell_type": "code",
   "execution_count": null,
   "metadata": {
    "collapsed": false
   },
   "outputs": [],
   "source": [
    "# scenes = get_data('../data/input.csv')\n",
    "scenes = get_data('../example/input_sample.csv')\n",
    "results = get_data('../example/result_sample.csv', reshape=False, dtype=np.int)\n",
    "for scene,result in zip(scenes,results):\n",
    "    stars = identify_stars(scene, features)\n",
    "    print stars\n",
    "    print result"
   ]
  },
  {
   "cell_type": "code",
   "execution_count": null,
   "metadata": {
    "collapsed": true
   },
   "outputs": [],
   "source": []
  }
 ],
 "metadata": {
  "kernelspec": {
   "display_name": "Python 2",
   "language": "python",
   "name": "python2"
  },
  "language_info": {
   "codemirror_mode": {
    "name": "ipython",
    "version": 2
   },
   "file_extension": ".py",
   "mimetype": "text/x-python",
   "name": "python",
   "nbconvert_exporter": "python",
   "pygments_lexer": "ipython2",
   "version": "2.7.13"
  }
 },
 "nbformat": 4,
 "nbformat_minor": 0
}
