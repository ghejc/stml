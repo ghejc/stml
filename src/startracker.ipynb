{
 "cells": [
  {
   "cell_type": "markdown",
   "metadata": {},
   "source": [
    "# Identify stars in images"
   ]
  },
  {
   "cell_type": "markdown",
   "metadata": {},
   "source": [
    "The star catalog **hip_main.dat** consists of columns separated by | and with no header. Column 2 is the star identifier, column 6 is the magnitude, column 9 and 10 are RA and DE in degrees."
   ]
  },
  {
   "cell_type": "code",
   "execution_count": 11,
   "metadata": {
    "collapsed": true
   },
   "outputs": [],
   "source": [
    "%matplotlib inline"
   ]
  },
  {
   "cell_type": "code",
   "execution_count": 12,
   "metadata": {
    "collapsed": false
   },
   "outputs": [],
   "source": [
    "import numpy as np\n",
    "import pandas as pd\n",
    "import matplotlib.pyplot as plt"
   ]
  },
  {
   "cell_type": "code",
   "execution_count": 13,
   "metadata": {
    "collapsed": false,
    "scrolled": true
   },
   "outputs": [],
   "source": [
    "import simulator as sim\n",
    "import os"
   ]
  },
  {
   "cell_type": "code",
   "execution_count": 14,
   "metadata": {
    "collapsed": false
   },
   "outputs": [],
   "source": [
    "star_catalog = sim.StarCatalog('../data/hip_main.dat')"
   ]
  },
  {
   "cell_type": "code",
   "execution_count": 15,
   "metadata": {
    "collapsed": false
   },
   "outputs": [
    {
     "data": {
      "text/plain": [
       "117955"
      ]
     },
     "execution_count": 15,
     "metadata": {},
     "output_type": "execute_result"
    }
   ],
   "source": [
    "len(star_catalog.star_vectors)"
   ]
  },
  {
   "cell_type": "code",
   "execution_count": 16,
   "metadata": {
    "collapsed": false
   },
   "outputs": [
    {
     "data": {
      "text/plain": [
       "<matplotlib.axes._subplots.AxesSubplot at 0xc0f0c88>"
      ]
     },
     "execution_count": 16,
     "metadata": {},
     "output_type": "execute_result"
    },
    {
     "data": {
      "image/png": "[encoded data removed]",
      "text/plain": [
       "<matplotlib.figure.Figure at 0xc0f0668>"
      ]
     },
     "metadata": {},
     "output_type": "display_data"
    }
   ],
   "source": [
    "pd.Series(star_catalog.magnitudes).hist(bins=50)"
   ]
  },
  {
   "cell_type": "markdown",
   "metadata": {},
   "source": [
    "The function *calc_md5* is used to calculate a MD5 checksum from the star catalog to detect changes of the file. In this case the features have to be recalculated."
   ]
  },
  {
   "cell_type": "code",
   "execution_count": 17,
   "metadata": {
    "collapsed": false
   },
   "outputs": [],
   "source": [
    "from hashlib import md5\n",
    "\n",
    "def calc_md5(file_name):\n",
    "    fd = open(file_name)\n",
    "    buffer = fd.read()\n",
    "    hash = md5(buffer)\n",
    "    fd.close()\n",
    "    return hash.hexdigest()"
   ]
  },
  {
   "cell_type": "code",
   "execution_count": 18,
   "metadata": {
    "collapsed": false
   },
   "outputs": [],
   "source": [
    "signature = calc_md5('../data/hip_main.dat')"
   ]
  },
  {
   "cell_type": "code",
   "execution_count": 19,
   "metadata": {
    "collapsed": true
   },
   "outputs": [],
   "source": [
    "def distance(v):\n",
    "    return np.sqrt(np.dot(v,v))\n",
    "\n",
    "def normalized_angle(v1,v2):\n",
    "    return np.arccos(np.dot(v1,v2)/(distance(v1)*distance(v2)))/np.pi\n",
    "\n",
    "def distances(v1,v2,v3):\n",
    "    x3 = distance(v3)\n",
    "    return (distance(v1) - x3)/(distance(v2) - x3)\n"
   ]
  },
  {
   "cell_type": "code",
   "execution_count": 21,
   "metadata": {
    "collapsed": false
   },
   "outputs": [
    {
     "ename": "KeyboardInterrupt",
     "evalue": "",
     "output_type": "error",
     "traceback": [
      "\u001b[0;31m---------------------------------------------------------------------------\u001b[0m",
      "\u001b[0;31mKeyboardInterrupt\u001b[0m                         Traceback (most recent call last)",
      "\u001b[0;32m<ipython-input-21-013356ab0b42>\u001b[0m in \u001b[0;36m<module>\u001b[0;34m()\u001b[0m\n\u001b[1;32m     16\u001b[0m     \u001b[1;31m# get the nearest star\u001b[0m\u001b[1;33m\u001b[0m\u001b[1;33m\u001b[0m\u001b[0m\n\u001b[1;32m     17\u001b[0m     \u001b[0mselection1\u001b[0m \u001b[1;33m=\u001b[0m \u001b[0mids\u001b[0m \u001b[1;33m!=\u001b[0m \u001b[0mhip\u001b[0m\u001b[1;33m\u001b[0m\u001b[0m\n\u001b[0;32m---> 18\u001b[0;31m     \u001b[0mdist\u001b[0m \u001b[1;33m=\u001b[0m \u001b[0mstar_catalog\u001b[0m\u001b[1;33m.\u001b[0m\u001b[0mstar_vectors\u001b[0m\u001b[1;33m[\u001b[0m\u001b[0mselection1\u001b[0m\u001b[1;33m]\u001b[0m \u001b[1;33m-\u001b[0m \u001b[0mpos\u001b[0m\u001b[1;33m\u001b[0m\u001b[0m\n\u001b[0m\u001b[1;32m     19\u001b[0m     \u001b[0mdist2\u001b[0m \u001b[1;33m=\u001b[0m \u001b[0mnp\u001b[0m\u001b[1;33m.\u001b[0m\u001b[0msum\u001b[0m\u001b[1;33m(\u001b[0m\u001b[0mdist\u001b[0m \u001b[1;33m*\u001b[0m \u001b[0mdist\u001b[0m\u001b[1;33m,\u001b[0m \u001b[0maxis\u001b[0m\u001b[1;33m=\u001b[0m\u001b[1;36m1\u001b[0m\u001b[1;33m)\u001b[0m\u001b[1;33m\u001b[0m\u001b[0m\n\u001b[1;32m     20\u001b[0m     \u001b[0mindex1\u001b[0m \u001b[1;33m=\u001b[0m \u001b[0mnp\u001b[0m\u001b[1;33m.\u001b[0m\u001b[0margmin\u001b[0m\u001b[1;33m(\u001b[0m\u001b[0mdist2\u001b[0m\u001b[1;33m)\u001b[0m\u001b[1;33m\u001b[0m\u001b[0m\n",
      "\u001b[0;31mKeyboardInterrupt\u001b[0m: "
     ]
    }
   ],
   "source": [
    "\n",
    "# check first if the features have been already calculated\n",
    "filename = '../data/hip_feat_' + str(signature) + '.csv'\n",
    "if os.path.exists(filename):\n",
    "    features = pd.read_csv(filename)\n",
    "    exit    \n",
    "\n",
    "# find the two closest stars to each star in the catalog\n",
    "ids = star_catalog.catalog['HIP'].values\n",
    "star_catalog.catalog.index = ids\n",
    "cat = zip(ids, star_catalog.star_vectors,star_catalog.magnitudes)\n",
    "nearest_stars = []\n",
    "\n",
    "for hip, pos, mag in cat:\n",
    "\n",
    "    # get the nearest star\n",
    "    selection1 = ids != hip\n",
    "    dist = star_catalog.star_vectors[selection1] - pos\n",
    "    dist2 = np.sum(dist * dist, axis=1)\n",
    "    index1 = np.argmin(dist2)\n",
    "    ids2 = ids[selection1]\n",
    "    hip1 = ids2[index1]\n",
    "    pos1 = star_catalog.star_vectors[selection1][index1]\n",
    "    mag1 = star_catalog.magnitudes[selection1][index1]\n",
    "\n",
    "    # get the second nearest star\n",
    "    selection2 = hip1 != ids2\n",
    "    index2 = np.argmin(dist2[selection2])\n",
    "    hip2 = ids2[selection2][index2]\n",
    "    pos2 = star_catalog.star_vectors[selection1][selection2][index2]\n",
    "    mag2 = star_catalog.magnitudes[selection1][selection2][index2]\n",
    "\n",
    "    # calculate star measures\n",
    "    y1 = (mag1 - mag2) / mag\n",
    "    y2 = normalized_angle(pos1 - pos, pos2 - pos)\n",
    "    y3 = distances(pos1 - pos, pos2 - pos, pos1 - pos2)\n",
    "    # print str(hip) + \" -> \" + str(hip1) + \",\" + str(hip2) + \",\" + str(y1) + \",\" + str(y2) + \",\" + str(y3)\n",
    "    nearest_stars.append([hip1, hip2, y1, y2, y3])\n",
    "    \n",
    "\n",
    "features = pd.DataFrame(index = ids, \n",
    "                        columns = ['hip1',\n",
    "                                   'hip2',\n",
    "                                   'nearest_stars_magnitude',\n",
    "                                   'nearest_stars_angle',\n",
    "                                   'nearest_stars_distance'], \n",
    "                        data = nearest_stars)\n",
    "features.to_csv(filename)"
   ]
  },
  {
   "cell_type": "code",
   "execution_count": null,
   "metadata": {
    "collapsed": false
   },
   "outputs": [],
   "source": [
    "magnitudes = features['nearest_stars_magnitude'].hist(bins = 50)\n",
    "set(features.index[magnitudes])"
   ]
  },
  {
   "cell_type": "code",
   "execution_count": null,
   "metadata": {
    "collapsed": true
   },
   "outputs": [],
   "source": [
    "?hist"
   ]
  },
  {
   "cell_type": "code",
   "execution_count": null,
   "metadata": {
    "collapsed": true
   },
   "outputs": [],
   "source": []
  }
 ],
 "metadata": {
  "kernelspec": {
   "display_name": "Python 2",
   "language": "python",
   "name": "python2"
  },
  "language_info": {
   "codemirror_mode": {
    "name": "ipython",
    "version": 2
   },
   "file_extension": ".py",
   "mimetype": "text/x-python",
   "name": "python",
   "nbconvert_exporter": "python",
   "pygments_lexer": "ipython2",
   "version": "2.7.13"
  }
 },
 "nbformat": 4,
 "nbformat_minor": 0
}
